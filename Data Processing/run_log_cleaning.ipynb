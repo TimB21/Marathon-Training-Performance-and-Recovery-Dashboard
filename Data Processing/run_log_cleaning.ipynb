{
 "cells": [
  {
   "cell_type": "code",
   "execution_count": null,
   "id": "0ad85a26",
   "metadata": {},
   "outputs": [
    {
     "name": "stdout",
     "output_type": "stream",
     "text": [
      "                                      name  distance  start_lat  start_lng  \\\n",
      "0                          Austin Marathon   43142.3      30.26     -97.74   \n",
      "1                              I’M BACK MF    8452.2      30.64     -97.68   \n",
      "2  Hit the rollie store with the rollie on    8155.6      30.64     -97.67   \n",
      "3                                       cd    1533.9      30.64     -97.67   \n",
      "4                                Wonderful   13320.3      30.64     -97.68   \n",
      "\n",
      "   end_lat  end_lng  \n",
      "0    30.27   -97.74  \n",
      "1    30.64   -97.68  \n",
      "2    30.64   -97.67  \n",
      "3    30.64   -97.67  \n",
      "4    30.64   -97.68  \n"
     ]
    }
   ],
   "source": [
    "import json\n",
    "import pandas as pd\n",
    "\n",
    "# Load JSON file\n",
    "with open('../runs_since_2025-02-16.json', 'r') as f:\n",
    "    runs = json.load(f)\n",
    "\n",
    "# Normalize JSON list into DataFrame\n",
    "df = pd.json_normalize(runs)\n",
    "\n",
    "# Flatten start_latlng and end_latlng lists into separate columns\n",
    "if 'start_latlng' in df.columns:\n",
    "    df[['start_lat', 'start_lng']] = pd.DataFrame(df['start_latlng'].tolist(), index=df.index)\n",
    "\n",
    "if 'end_latlng' in df.columns:\n",
    "    df[['end_lat', 'end_lng']] = pd.DataFrame(df['end_latlng'].tolist(), index=df.index)\n",
    "\n",
    "# Now drop the original list columns as they're redundant\n",
    "df.drop(columns=['start_latlng', 'end_latlng'], inplace=True)\n",
    "\n",
    "# Check a few columns and rows to verify\n",
    "print(df[['name', 'distance', 'start_lat', 'start_lng', 'end_lat', 'end_lng']].head())"
   ]
  },
  {
   "cell_type": "code",
   "execution_count": null,
   "id": "3603dc75",
   "metadata": {},
   "outputs": [
    {
     "name": "stdout",
     "output_type": "stream",
     "text": [
      "Saved runs_summary.csv with 112 records.\n"
     ]
    }
   ],
   "source": [
    "# Export to CSV\n",
    "df.to_csv('runs_processed.csv', index=False)\n",
    "\n",
    "print(\"Saved runs_summary.csv with\", len(df), \"records.\")"
   ]
  },
  {
   "cell_type": "code",
   "execution_count": 9,
   "id": "004bc52c",
   "metadata": {},
   "outputs": [],
   "source": [
    "columns_to_keep = [\n",
    "    'name',             # Run name\n",
    "    'start_date_local', # Local date/time string\n",
    "    'distance',         # Distance in meters\n",
    "    'moving_time',      # Moving time in seconds\n",
    "    'elapsed_time',     # Elapsed time in seconds\n",
    "    'total_elevation_gain', # Elevation gain in meters\n",
    "    'average_speed',    # m/s\n",
    "    'max_speed',        # m/s\n",
    "    'average_heartrate',# bpm\n",
    "    'max_heartrate',    # bpm\n",
    "    'average_cadence',  # cadence (steps per minute)\n",
    "    'kilojoules',       # energy\n",
    "    'start_lat',        # GPS start lat\n",
    "    'start_lng',        # GPS start lng\n",
    "    'end_lat',          # GPS end lat\n",
    "    'end_lng',          # GPS end lng\n",
    "]"
   ]
  },
  {
   "cell_type": "code",
   "execution_count": 11,
   "id": "ce837f8b",
   "metadata": {},
   "outputs": [],
   "source": [
    "df_filtered = df[columns_to_keep]\n",
    "df_filtered.to_csv('runs_filtered.csv', index=False)"
   ]
  }
 ],
 "metadata": {
  "kernelspec": {
   "display_name": ".venv",
   "language": "python",
   "name": "python3"
  },
  "language_info": {
   "codemirror_mode": {
    "name": "ipython",
    "version": 3
   },
   "file_extension": ".py",
   "mimetype": "text/x-python",
   "name": "python",
   "nbconvert_exporter": "python",
   "pygments_lexer": "ipython3",
   "version": "3.13.0"
  }
 },
 "nbformat": 4,
 "nbformat_minor": 5
}
