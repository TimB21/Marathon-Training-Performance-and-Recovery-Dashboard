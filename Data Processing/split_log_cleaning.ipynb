{
 "cells": [
  {
   "cell_type": "code",
   "execution_count": 1,
   "id": "b7f0adea",
   "metadata": {},
   "outputs": [
    {
     "name": "stdout",
     "output_type": "stream",
     "text": [
      "   distance  elapsed_time  elevation_difference  moving_time  split  \\\n",
      "0    1611.9           506                  10.2          506      1   \n",
      "1    1609.8           486                  31.6          486      2   \n",
      "2    1607.7           458                  10.3          458      3   \n",
      "3    1608.4           456                   0.5          456      4   \n",
      "4    1610.5           439                 -36.0          439      5   \n",
      "\n",
      "   average_speed  average_grade_adjusted_speed  pace_zone       run_id  \\\n",
      "0           3.19                          3.27          3  13644935117   \n",
      "1           3.31                          3.50          4  13644935117   \n",
      "2           3.51                          3.57          5  13644935117   \n",
      "3           3.53                          3.58          5  13644935117   \n",
      "4           3.67                          3.51          4  13644935117   \n",
      "\n",
      "   average_heartrate  \n",
      "0                NaN  \n",
      "1                NaN  \n",
      "2                NaN  \n",
      "3                NaN  \n",
      "4                NaN  \n"
     ]
    }
   ],
   "source": [
    "import json\n",
    "import pandas as pd\n",
    "\n",
    "# Load JSON file\n",
    "with open('../splits_since_2025-02-16.json', 'r') as f:\n",
    "    runs = json.load(f)\n",
    "\n",
    "# Flatten all splits into a list of dicts with run_id included\n",
    "records = []\n",
    "for run_id, splits in runs.items():\n",
    "    for split in splits:\n",
    "        split['run_id'] = run_id  # add run ID to each split for traceability\n",
    "        records.append(split)\n",
    "\n",
    "# Create DataFrame\n",
    "df_splits = pd.DataFrame(records)\n",
    "\n",
    "# Check the first few rows\n",
    "print(df_splits.head())"
   ]
  },
  {
   "cell_type": "code",
   "execution_count": 2,
   "id": "2ede5216",
   "metadata": {},
   "outputs": [],
   "source": [
    "df_splits.to_csv('splits_processed.csv', index=False)\n"
   ]
  }
 ],
 "metadata": {
  "kernelspec": {
   "display_name": ".venv",
   "language": "python",
   "name": "python3"
  },
  "language_info": {
   "codemirror_mode": {
    "name": "ipython",
    "version": 3
   },
   "file_extension": ".py",
   "mimetype": "text/x-python",
   "name": "python",
   "nbconvert_exporter": "python",
   "pygments_lexer": "ipython3",
   "version": "3.13.0"
  }
 },
 "nbformat": 4,
 "nbformat_minor": 5
}
